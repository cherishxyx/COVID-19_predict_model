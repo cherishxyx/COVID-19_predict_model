{
 "cells": [
  {
   "cell_type": "markdown",
   "metadata": {},
   "source": [
    "# 1.训练集数据预处理"
   ]
  },
  {
   "cell_type": "markdown",
   "metadata": {},
   "source": [
    "1.1导入数据，补空"
   ]
  },
  {
   "cell_type": "code",
   "execution_count": 7,
   "metadata": {},
   "outputs": [],
   "source": [
    "import pandas as pd\n",
    "import numpy as np\n",
    "from math import isnan\n",
    "\n",
    "qr=pd.read_excel('./AI 2020 04 data01.xlsx',sheet_name='迁入',index_col=[0,1])\n",
    "qc=pd.read_excel('./AI 2020 04 data01.xlsx',sheet_name='迁出',index_col=[0,1])\n",
    "qc_bili = pd.read_excel('./AI 2020 04 data01.xlsx',sheet_name='1.10-1.16武汉迁出比例',index_col=0)\n",
    "\n",
    "qc_train = qc.iloc[:,:7]\n",
    "qr_train = qr.iloc[:,:7]\n"
   ]
  },
  {
   "cell_type": "code",
   "execution_count": 10,
   "metadata": {},
   "outputs": [
    {
     "name": "stdout",
     "output_type": "stream",
     "text": [
      "<class 'pandas.core.frame.DataFrame'>\n",
      "MultiIndex: 369 entries, (湖北, 武汉) to (新疆, 昆玉)\n",
      "Data columns (total 7 columns):\n",
      "1.1     360 non-null float64\n",
      "1.11    360 non-null float64\n",
      "1.12    360 non-null float64\n",
      "1.13    360 non-null float64\n",
      "1.14    360 non-null float64\n",
      "1.15    360 non-null float64\n",
      "1.16    360 non-null float64\n",
      "dtypes: float64(7)\n",
      "memory usage: 24.6+ KB\n"
     ]
    }
   ],
   "source": [
    "qc_train.info()"
   ]
  },
  {
   "cell_type": "markdown",
   "metadata": {},
   "source": [
    "1.2将每个空的值改为该省份的平均值"
   ]
  },
  {
   "cell_type": "code",
   "execution_count": 11,
   "metadata": {
    "collapsed": true
   },
   "outputs": [
    {
     "name": "stderr",
     "output_type": "stream",
     "text": [
      "C:\\ProgramData\\Anaconda3\\lib\\site-packages\\pandas\\core\\indexing.py:205: SettingWithCopyWarning: \n",
      "A value is trying to be set on a copy of a slice from a DataFrame\n",
      "\n",
      "See the caveats in the documentation: http://pandas.pydata.org/pandas-docs/stable/user_guide/indexing.html#returning-a-view-versus-a-copy\n",
      "  self._setitem_with_indexer(indexer, value)\n",
      "C:\\ProgramData\\Anaconda3\\lib\\site-packages\\ipykernel_launcher.py:1: SettingWithCopyWarning: \n",
      "A value is trying to be set on a copy of a slice from a DataFrame\n",
      "\n",
      "See the caveats in the documentation: http://pandas.pydata.org/pandas-docs/stable/user_guide/indexing.html#returning-a-view-versus-a-copy\n",
      "  \"\"\"Entry point for launching an IPython kernel.\n",
      "C:\\ProgramData\\Anaconda3\\lib\\site-packages\\ipykernel_launcher.py:2: SettingWithCopyWarning: \n",
      "A value is trying to be set on a copy of a slice from a DataFrame\n",
      "\n",
      "See the caveats in the documentation: http://pandas.pydata.org/pandas-docs/stable/user_guide/indexing.html#returning-a-view-versus-a-copy\n",
      "  \n",
      "C:\\ProgramData\\Anaconda3\\lib\\site-packages\\ipykernel_launcher.py:4: SettingWithCopyWarning: \n",
      "A value is trying to be set on a copy of a slice from a DataFrame\n",
      "\n",
      "See the caveats in the documentation: http://pandas.pydata.org/pandas-docs/stable/user_guide/indexing.html#returning-a-view-versus-a-copy\n",
      "  after removing the cwd from sys.path.\n",
      "C:\\ProgramData\\Anaconda3\\lib\\site-packages\\ipykernel_launcher.py:5: SettingWithCopyWarning: \n",
      "A value is trying to be set on a copy of a slice from a DataFrame\n",
      "\n",
      "See the caveats in the documentation: http://pandas.pydata.org/pandas-docs/stable/user_guide/indexing.html#returning-a-view-versus-a-copy\n",
      "  \"\"\"\n",
      "C:\\ProgramData\\Anaconda3\\lib\\site-packages\\ipykernel_launcher.py:7: SettingWithCopyWarning: \n",
      "A value is trying to be set on a copy of a slice from a DataFrame\n",
      "\n",
      "See the caveats in the documentation: http://pandas.pydata.org/pandas-docs/stable/user_guide/indexing.html#returning-a-view-versus-a-copy\n",
      "  import sys\n",
      "C:\\ProgramData\\Anaconda3\\lib\\site-packages\\ipykernel_launcher.py:8: SettingWithCopyWarning: \n",
      "A value is trying to be set on a copy of a slice from a DataFrame\n",
      "\n",
      "See the caveats in the documentation: http://pandas.pydata.org/pandas-docs/stable/user_guide/indexing.html#returning-a-view-versus-a-copy\n",
      "  \n",
      "C:\\ProgramData\\Anaconda3\\lib\\site-packages\\ipykernel_launcher.py:10: SettingWithCopyWarning: \n",
      "A value is trying to be set on a copy of a slice from a DataFrame\n",
      "\n",
      "See the caveats in the documentation: http://pandas.pydata.org/pandas-docs/stable/user_guide/indexing.html#returning-a-view-versus-a-copy\n",
      "  # Remove the CWD from sys.path while we load stuff.\n",
      "C:\\ProgramData\\Anaconda3\\lib\\site-packages\\ipykernel_launcher.py:11: SettingWithCopyWarning: \n",
      "A value is trying to be set on a copy of a slice from a DataFrame\n",
      "\n",
      "See the caveats in the documentation: http://pandas.pydata.org/pandas-docs/stable/user_guide/indexing.html#returning-a-view-versus-a-copy\n",
      "  # This is added back by InteractiveShellApp.init_path()\n",
      "C:\\ProgramData\\Anaconda3\\lib\\site-packages\\ipykernel_launcher.py:13: SettingWithCopyWarning: \n",
      "A value is trying to be set on a copy of a slice from a DataFrame\n",
      "\n",
      "See the caveats in the documentation: http://pandas.pydata.org/pandas-docs/stable/user_guide/indexing.html#returning-a-view-versus-a-copy\n",
      "  del sys.path[0]\n",
      "C:\\ProgramData\\Anaconda3\\lib\\site-packages\\ipykernel_launcher.py:14: SettingWithCopyWarning: \n",
      "A value is trying to be set on a copy of a slice from a DataFrame\n",
      "\n",
      "See the caveats in the documentation: http://pandas.pydata.org/pandas-docs/stable/user_guide/indexing.html#returning-a-view-versus-a-copy\n",
      "  \n",
      "C:\\ProgramData\\Anaconda3\\lib\\site-packages\\ipykernel_launcher.py:16: SettingWithCopyWarning: \n",
      "A value is trying to be set on a copy of a slice from a DataFrame\n",
      "\n",
      "See the caveats in the documentation: http://pandas.pydata.org/pandas-docs/stable/user_guide/indexing.html#returning-a-view-versus-a-copy\n",
      "  app.launch_new_instance()\n",
      "C:\\ProgramData\\Anaconda3\\lib\\site-packages\\ipykernel_launcher.py:17: SettingWithCopyWarning: \n",
      "A value is trying to be set on a copy of a slice from a DataFrame\n",
      "\n",
      "See the caveats in the documentation: http://pandas.pydata.org/pandas-docs/stable/user_guide/indexing.html#returning-a-view-versus-a-copy\n"
     ]
    }
   ],
   "source": [
    "\n",
    "qr_train.loc['江西', '赣江新区']=qr_train.loc['江西'].mean()\n",
    "qc_train.loc['江西', '赣江新区']=qc_train.loc['江西'].mean()\n",
    "\n",
    "qr_train.loc['海南','三沙']=qr_train.loc['海南'].mean()\n",
    "qc_train.loc['海南','三沙']=qc_train.loc['海南'].mean()\n",
    "\n",
    "qr_train.loc['贵州',  '黔南州']=qr_train.loc['贵州'].mean()\n",
    "qc_train.loc['贵州',  '黔南州']=qc_train.loc['贵州'].mean()\n",
    "\n",
    "qr_train.loc['贵州', '黔东南州']=qr_train.loc['贵州'].mean()\n",
    "qc_train.loc['贵州', '黔东南州']=qc_train.loc['贵州'].mean()\n",
    "\n",
    "qr_train.loc['贵州', '黔西南州']=qr_train.loc['贵州'].mean()\n",
    "qc_train.loc['贵州', '黔西南州']=qc_train.loc['贵州'].mean()\n",
    "\n",
    "qr_train.loc['吉林',  '梅河口']=qr_train.loc['吉林'].mean()\n",
    "qc_train.loc['吉林',  '梅河口']=qc_train.loc['吉林'].mean()\n",
    "\n",
    "qc_bili.reset_index(inplace=True)"
   ]
  },
  {
   "cell_type": "code",
   "execution_count": null,
   "metadata": {},
   "outputs": [],
   "source": []
  },
  {
   "cell_type": "markdown",
   "metadata": {},
   "source": [
    "1.3分割省市,目的是将多个表通过索引连接在一起"
   ]
  },
  {
   "cell_type": "code",
   "execution_count": 12,
   "metadata": {},
   "outputs": [],
   "source": [
    "areas=[]\n",
    "for i in qc_bili.iloc[:,0].values:\n",
    "    if '市' in i:\n",
    "        w=i.split('市')\n",
    "        areas.append([w[1][:2],w[0]])\n",
    "    elif '州' in i:\n",
    "        z=i.split('州')\n",
    "        areas.append([z[1][:2],z[0]])\n",
    "\n",
    "areas_df = pd.DataFrame(areas,columns=['省份','地区'])\n",
    "areas_df.iloc[94,0] = '贵州'\n",
    "areas_df.iloc[94,1] = '黔东南州'\n",
    "areas_df.iloc[11,1] = '恩施州'\n",
    "areas_df.iloc[61][0] = '黑龙江'"
   ]
  },
  {
   "cell_type": "code",
   "execution_count": 16,
   "metadata": {},
   "outputs": [
    {
     "data": {
      "text/html": [
       "<div>\n",
       "<style scoped>\n",
       "    .dataframe tbody tr th:only-of-type {\n",
       "        vertical-align: middle;\n",
       "    }\n",
       "\n",
       "    .dataframe tbody tr th {\n",
       "        vertical-align: top;\n",
       "    }\n",
       "\n",
       "    .dataframe thead th {\n",
       "        text-align: right;\n",
       "    }\n",
       "</style>\n",
       "<table border=\"1\" class=\"dataframe\">\n",
       "  <thead>\n",
       "    <tr style=\"text-align: right;\">\n",
       "      <th></th>\n",
       "      <th>省份</th>\n",
       "      <th>地区</th>\n",
       "    </tr>\n",
       "  </thead>\n",
       "  <tbody>\n",
       "    <tr>\n",
       "      <td>0</td>\n",
       "      <td>湖北</td>\n",
       "      <td>孝感</td>\n",
       "    </tr>\n",
       "    <tr>\n",
       "      <td>1</td>\n",
       "      <td>湖北</td>\n",
       "      <td>黄冈</td>\n",
       "    </tr>\n",
       "    <tr>\n",
       "      <td>2</td>\n",
       "      <td>湖北</td>\n",
       "      <td>荆州</td>\n",
       "    </tr>\n",
       "    <tr>\n",
       "      <td>3</td>\n",
       "      <td>湖北</td>\n",
       "      <td>咸宁</td>\n",
       "    </tr>\n",
       "    <tr>\n",
       "      <td>4</td>\n",
       "      <td>湖北</td>\n",
       "      <td>鄂州</td>\n",
       "    </tr>\n",
       "    <tr>\n",
       "      <td>...</td>\n",
       "      <td>...</td>\n",
       "      <td>...</td>\n",
       "    </tr>\n",
       "    <tr>\n",
       "      <td>95</td>\n",
       "      <td>浙江</td>\n",
       "      <td>台州</td>\n",
       "    </tr>\n",
       "    <tr>\n",
       "      <td>96</td>\n",
       "      <td>湖南</td>\n",
       "      <td>怀化</td>\n",
       "    </tr>\n",
       "    <tr>\n",
       "      <td>97</td>\n",
       "      <td>辽宁</td>\n",
       "      <td>大连</td>\n",
       "    </tr>\n",
       "    <tr>\n",
       "      <td>98</td>\n",
       "      <td>湖南</td>\n",
       "      <td>湘潭</td>\n",
       "    </tr>\n",
       "    <tr>\n",
       "      <td>99</td>\n",
       "      <td>山东</td>\n",
       "      <td>潍坊</td>\n",
       "    </tr>\n",
       "  </tbody>\n",
       "</table>\n",
       "<p>100 rows × 2 columns</p>\n",
       "</div>"
      ],
      "text/plain": [
       "    省份  地区\n",
       "0   湖北  孝感\n",
       "1   湖北  黄冈\n",
       "2   湖北  荆州\n",
       "3   湖北  咸宁\n",
       "4   湖北  鄂州\n",
       "..  ..  ..\n",
       "95  浙江  台州\n",
       "96  湖南  怀化\n",
       "97  辽宁  大连\n",
       "98  湖南  湘潭\n",
       "99  山东  潍坊\n",
       "\n",
       "[100 rows x 2 columns]"
      ]
     },
     "execution_count": 16,
     "metadata": {},
     "output_type": "execute_result"
    }
   ],
   "source": [
    "areas_df"
   ]
  },
  {
   "cell_type": "code",
   "execution_count": 17,
   "metadata": {},
   "outputs": [],
   "source": [
    "qc_bili.drop(qc_bili.columns[0],axis=1,inplace=True)"
   ]
  },
  {
   "cell_type": "code",
   "execution_count": 6,
   "metadata": {},
   "outputs": [],
   "source": [
    "qc_bili[['省份','地区']] = areas_df[['省份','地区']]"
   ]
  },
  {
   "cell_type": "code",
   "execution_count": 7,
   "metadata": {},
   "outputs": [],
   "source": [
    "qc_bili.set_index(['省份','地区'],inplace=True)"
   ]
  },
  {
   "cell_type": "code",
   "execution_count": 8,
   "metadata": {
    "collapsed": true
   },
   "outputs": [
    {
     "name": "stderr",
     "output_type": "stream",
     "text": [
      "F:\\Python\\lib\\site-packages\\pandas\\core\\frame.py:4133: SettingWithCopyWarning: \n",
      "A value is trying to be set on a copy of a slice from a DataFrame\n",
      "\n",
      "See the caveats in the documentation: https://pandas.pydata.org/pandas-docs/stable/user_guide/indexing.html#returning-a-view-versus-a-copy\n",
      "  errors=errors,\n"
     ]
    }
   ],
   "source": [
    "qc_bili_nan = qc_bili[qc_bili.isna().values==True].drop_duplicates()\n",
    "\n",
    "index_nan=qc_bili_nan.index\n",
    "# 将武汉迁出比例缺失值补为平均值\n",
    "k=0\n",
    "for i in index_nan:\n",
    "    for j in range(len(qc_bili.loc[i])):\n",
    "        qc_bili.loc[i].iloc[j]=qc_bili_nan.mean(axis=1).values[k]\n",
    "    k=k+1\n",
    "        \n",
    "qc_train.reset_index(inplace=True)\n",
    "qc_bili.reset_index(inplace=True)\n",
    "qr_train.reset_index(inplace=True)\n",
    "\n",
    "qc_bili.set_index(['省份','地区'],inplace=True)\n",
    "qc_train.rename(columns={'迁徙规模指数（单位）：反映迁入或迁出人口规模，城市间可横向对比':'省份'},inplace=True)\n",
    "qc_train.set_index(['省份','地区'],inplace=True)\n",
    "qr_train.rename(columns={'迁徙规模指数（单位）：反映迁入或迁出人口规模，城市间可横向对比':'省份'},inplace=True)\n",
    "\n",
    "qr_train.set_index(['省份','地区'],inplace=True)"
   ]
  },
  {
   "cell_type": "markdown",
   "metadata": {},
   "source": [
    "1.4将迁入、迁出和比例连接到一起，最终形成训练集"
   ]
  },
  {
   "cell_type": "code",
   "execution_count": 10,
   "metadata": {},
   "outputs": [],
   "source": [
    "train1 = pd.merge(qr_train,qc_train,right_index=True,left_index=True,how='outer')\n",
    "train2 = pd.merge(train1,qc_bili,right_index=True,left_index=True,how='outer')\n",
    "\n",
    "a = {\n",
    "    '1.1_x' : '1.10迁入指数',\n",
    "    '1.11_x' : '1.11迁入指数',\n",
    "    '1.12_x' :  '1.12迁入指数',\n",
    "    '1.13_x' : '1.13迁入指数',\n",
    "    '1.14_x' : '1.14迁入指数',\n",
    "    '1.15_x' : '1.15迁入指数',\n",
    "    '1.16_x' : '1.16迁入指数',\n",
    "    \n",
    "    '1.1_y' : '1.10迁出指数',\n",
    "    '1.11_y' : '1.11迁出指数',\n",
    "    '1.12_y' : '1.12迁出指数',\n",
    "    '1.13_y' : '1.13迁出指数',\n",
    "    '1.14_y' : '1.14迁出指数',\n",
    "    '1.15_y' :  '1.15迁出指数',\n",
    "    '1.16_y' : '1.16迁出指数',\n",
    "    \n",
    "    1.1 : '1.10比例',\n",
    "    1.11 : '1.11比例',\n",
    "    1.12 : '1.12比例',\n",
    "    1.13 :  '1.13比例',\n",
    "    1.14 : '1.14比例',\n",
    "    1.15 : '1.15比例',\n",
    "    1.16 : '1.16比例',\n",
    "}\n",
    "\n",
    "train2.rename(columns=a,inplace=True)\n",
    "\n",
    "train2.fillna(0,inplace=True)   # 把比例中武汉人没去的地区补为0"
   ]
  },
  {
   "cell_type": "markdown",
   "metadata": {},
   "source": [
    "# 2.测试集数据预处理"
   ]
  },
  {
   "cell_type": "code",
   "execution_count": 11,
   "metadata": {
    "collapsed": true
   },
   "outputs": [
    {
     "name": "stderr",
     "output_type": "stream",
     "text": [
      "F:\\Python\\lib\\site-packages\\pandas\\core\\frame.py:4153: SettingWithCopyWarning: \n",
      "A value is trying to be set on a copy of a slice from a DataFrame\n",
      "\n",
      "See the caveats in the documentation: https://pandas.pydata.org/pandas-docs/stable/user_guide/indexing.html#returning-a-view-versus-a-copy\n",
      "  downcast=downcast,\n"
     ]
    }
   ],
   "source": [
    "qr=pd.read_excel('./AI 2020 04 data01.xlsx',sheet_name='迁入',index_col=[0,1])\n",
    "qc=pd.read_excel('./AI 2020 04 data01.xlsx',sheet_name='迁出',index_col=[0,1])\n",
    "qc_bili_test = pd.read_excel('./AI 2020 04 data01.xlsx',sheet_name='1.17-1.23武汉迁出比例',index_col=0)\n",
    "\n",
    "# qr.set_index(['迁徙规模指数（单位）：反映迁入或迁出人口规模，城市间可横向对比','地区'])\n",
    "qc_test = qc.iloc[:,7:-1]\n",
    "qr_test = qr.iloc[:,7:-1]\n",
    "\n",
    "qr_test.fillna(0,inplace=True)\n",
    "qc_test.fillna(0,inplace=True)"
   ]
  },
  {
   "cell_type": "code",
   "execution_count": 12,
   "metadata": {
    "collapsed": true
   },
   "outputs": [
    {
     "name": "stderr",
     "output_type": "stream",
     "text": [
      "F:\\Python\\lib\\site-packages\\pandas\\core\\indexing.py:671: SettingWithCopyWarning: \n",
      "A value is trying to be set on a copy of a slice from a DataFrame\n",
      "\n",
      "See the caveats in the documentation: https://pandas.pydata.org/pandas-docs/stable/user_guide/indexing.html#returning-a-view-versus-a-copy\n",
      "  self._setitem_with_indexer(indexer, value)\n",
      "F:\\Python\\lib\\site-packages\\ipykernel_launcher.py:1: SettingWithCopyWarning: \n",
      "A value is trying to be set on a copy of a slice from a DataFrame\n",
      "\n",
      "See the caveats in the documentation: https://pandas.pydata.org/pandas-docs/stable/user_guide/indexing.html#returning-a-view-versus-a-copy\n",
      "  \"\"\"Entry point for launching an IPython kernel.\n",
      "F:\\Python\\lib\\site-packages\\ipykernel_launcher.py:2: SettingWithCopyWarning: \n",
      "A value is trying to be set on a copy of a slice from a DataFrame\n",
      "\n",
      "See the caveats in the documentation: https://pandas.pydata.org/pandas-docs/stable/user_guide/indexing.html#returning-a-view-versus-a-copy\n",
      "  \n",
      "F:\\Python\\lib\\site-packages\\ipykernel_launcher.py:4: SettingWithCopyWarning: \n",
      "A value is trying to be set on a copy of a slice from a DataFrame\n",
      "\n",
      "See the caveats in the documentation: https://pandas.pydata.org/pandas-docs/stable/user_guide/indexing.html#returning-a-view-versus-a-copy\n",
      "  after removing the cwd from sys.path.\n",
      "F:\\Python\\lib\\site-packages\\ipykernel_launcher.py:5: SettingWithCopyWarning: \n",
      "A value is trying to be set on a copy of a slice from a DataFrame\n",
      "\n",
      "See the caveats in the documentation: https://pandas.pydata.org/pandas-docs/stable/user_guide/indexing.html#returning-a-view-versus-a-copy\n",
      "  \"\"\"\n",
      "F:\\Python\\lib\\site-packages\\ipykernel_launcher.py:7: SettingWithCopyWarning: \n",
      "A value is trying to be set on a copy of a slice from a DataFrame\n",
      "\n",
      "See the caveats in the documentation: https://pandas.pydata.org/pandas-docs/stable/user_guide/indexing.html#returning-a-view-versus-a-copy\n",
      "  import sys\n",
      "F:\\Python\\lib\\site-packages\\ipykernel_launcher.py:8: SettingWithCopyWarning: \n",
      "A value is trying to be set on a copy of a slice from a DataFrame\n",
      "\n",
      "See the caveats in the documentation: https://pandas.pydata.org/pandas-docs/stable/user_guide/indexing.html#returning-a-view-versus-a-copy\n",
      "  \n",
      "F:\\Python\\lib\\site-packages\\ipykernel_launcher.py:10: SettingWithCopyWarning: \n",
      "A value is trying to be set on a copy of a slice from a DataFrame\n",
      "\n",
      "See the caveats in the documentation: https://pandas.pydata.org/pandas-docs/stable/user_guide/indexing.html#returning-a-view-versus-a-copy\n",
      "  # Remove the CWD from sys.path while we load stuff.\n",
      "F:\\Python\\lib\\site-packages\\ipykernel_launcher.py:11: SettingWithCopyWarning: \n",
      "A value is trying to be set on a copy of a slice from a DataFrame\n",
      "\n",
      "See the caveats in the documentation: https://pandas.pydata.org/pandas-docs/stable/user_guide/indexing.html#returning-a-view-versus-a-copy\n",
      "  # This is added back by InteractiveShellApp.init_path()\n",
      "F:\\Python\\lib\\site-packages\\ipykernel_launcher.py:13: SettingWithCopyWarning: \n",
      "A value is trying to be set on a copy of a slice from a DataFrame\n",
      "\n",
      "See the caveats in the documentation: https://pandas.pydata.org/pandas-docs/stable/user_guide/indexing.html#returning-a-view-versus-a-copy\n",
      "  del sys.path[0]\n",
      "F:\\Python\\lib\\site-packages\\ipykernel_launcher.py:14: SettingWithCopyWarning: \n",
      "A value is trying to be set on a copy of a slice from a DataFrame\n",
      "\n",
      "See the caveats in the documentation: https://pandas.pydata.org/pandas-docs/stable/user_guide/indexing.html#returning-a-view-versus-a-copy\n",
      "  \n",
      "F:\\Python\\lib\\site-packages\\ipykernel_launcher.py:16: SettingWithCopyWarning: \n",
      "A value is trying to be set on a copy of a slice from a DataFrame\n",
      "\n",
      "See the caveats in the documentation: https://pandas.pydata.org/pandas-docs/stable/user_guide/indexing.html#returning-a-view-versus-a-copy\n",
      "  app.launch_new_instance()\n",
      "F:\\Python\\lib\\site-packages\\ipykernel_launcher.py:17: SettingWithCopyWarning: \n",
      "A value is trying to be set on a copy of a slice from a DataFrame\n",
      "\n",
      "See the caveats in the documentation: https://pandas.pydata.org/pandas-docs/stable/user_guide/indexing.html#returning-a-view-versus-a-copy\n"
     ]
    }
   ],
   "source": [
    "qr_test.loc['江西', '赣江新区']=qr_test.loc['江西'].mean()\n",
    "qc_test.loc['江西', '赣江新区']=qc_test.loc['江西'].mean()\n",
    "\n",
    "qr_test.loc['海南','三沙']=qr_test.loc['海南'].mean()\n",
    "qc_test.loc['海南',   '三沙']=qc_test.loc['海南'].mean()\n",
    "\n",
    "qr_test.loc['贵州',  '黔南州']=qr_test.loc['贵州'].mean()\n",
    "qc_test.loc['贵州',  '黔南州']=qc_test.loc['贵州'].mean()\n",
    "\n",
    "qr_test.loc['贵州', '黔东南州']=qr_test.loc['贵州'].mean()\n",
    "qc_test.loc['贵州', '黔东南州']=qc_test.loc['贵州'].mean()\n",
    "\n",
    "qr_test.loc['贵州', '黔西南州']=qr_test.loc['贵州'].mean()\n",
    "qc_test.loc['贵州', '黔西南州']=qc_test.loc['贵州'].mean()\n",
    "\n",
    "qr_test.loc['吉林',  '梅河口']=qr_test.loc['吉林'].mean()\n",
    "qc_test.loc['吉林',  '梅河口']=qc_test.loc['吉林'].mean()"
   ]
  },
  {
   "cell_type": "code",
   "execution_count": 13,
   "metadata": {},
   "outputs": [],
   "source": [
    "qc_bili_test.reset_index(inplace=True)"
   ]
  },
  {
   "cell_type": "code",
   "execution_count": 14,
   "metadata": {},
   "outputs": [],
   "source": [
    "areas=[]\n",
    "for i in qc_bili_test.iloc[:,0].values:\n",
    "    if '市' in i:\n",
    "        w=i.split('市')\n",
    "        areas.append([w[1][:2],w[0]])\n",
    "    elif '州' in i:\n",
    "        z=i.split('州')\n",
    "        areas.append([z[1][:2],z[0]])\n",
    "\n",
    "areas_df = pd.DataFrame(areas,columns=['省份','地区'])"
   ]
  },
  {
   "cell_type": "code",
   "execution_count": 15,
   "metadata": {},
   "outputs": [],
   "source": [
    "areas_df.iloc[12,1] =  '恩施州'\n",
    "areas_df.iloc[57,0] = '黑龙江'"
   ]
  },
  {
   "cell_type": "code",
   "execution_count": 16,
   "metadata": {
    "collapsed": true
   },
   "outputs": [
    {
     "name": "stderr",
     "output_type": "stream",
     "text": [
      "F:\\Python\\lib\\site-packages\\pandas\\core\\frame.py:4133: SettingWithCopyWarning: \n",
      "A value is trying to be set on a copy of a slice from a DataFrame\n",
      "\n",
      "See the caveats in the documentation: https://pandas.pydata.org/pandas-docs/stable/user_guide/indexing.html#returning-a-view-versus-a-copy\n",
      "  errors=errors,\n"
     ]
    }
   ],
   "source": [
    "qc_bili_test.drop(qc_bili_test.columns[0],axis=1,inplace=True)\n",
    "\n",
    "qc_bili_test[['省份','地区']] = areas_df[['省份','地区']]\n",
    "\n",
    "qc_bili_test.set_index(['省份','地区'],inplace=True)\n",
    "\n",
    "qc_bili_nan = qc_bili_test[qc_bili_test.isna().values==True].drop_duplicates()\n",
    "\n",
    "index_nan=qc_bili_nan.index\n",
    "\n",
    "k=0\n",
    "for i in index_nan:\n",
    "    for j in range(len(qc_bili_test.loc[i])):\n",
    "        qc_bili_test.loc[i].iloc[j]=qc_bili_nan.mean(axis=1).values[k]\n",
    "    k=k+1\n",
    "        \n",
    "qc_test.reset_index(inplace=True)\n",
    "qc_bili_test.reset_index(inplace=True)\n",
    "qr_test.reset_index(inplace=True)\n",
    "\n",
    "qc_bili_test.set_index(['省份','地区'],inplace=True)\n",
    "\n",
    "qc_test.rename(columns={'迁徙规模指数（单位）：反映迁入或迁出人口规模，城市间可横向对比':'省份'},inplace=True)\n",
    "\n",
    "qc_test.set_index(['省份','地区'],inplace=True)\n",
    "\n",
    "qr_test.rename(columns={'迁徙规模指数（单位）：反映迁入或迁出人口规模，城市间可横向对比':'省份'},inplace=True)\n",
    "\n",
    "qr_test.set_index(['省份','地区'],inplace=True)\n",
    "\n",
    "\n",
    "test1 = pd.merge(qr_test,qc_test,right_index=True,left_index=True,how='outer')\n",
    "\n",
    "test888 = pd.merge(test1,qc_bili_test,right_index=True,left_index=True,how='outer')\n",
    "\n",
    "a = {\n",
    "    '1.17_x' : '1.17迁入指数',\n",
    "    '1.18_x' : '1.18迁入指数',\n",
    "    '1.19_x' : '1.19迁入指数',\n",
    "    '1.2_x' : '1.20迁入指数',\n",
    "    '1.21_x' :  '1.21迁入指数',\n",
    "    '1.22_x' : '1.22迁入指数',\n",
    "    '1.23_x' : '1.23迁入指数',\n",
    "    \n",
    "    '1.17_y' : '1.17迁出指数',\n",
    "    '1.18_y' : '1.18迁出指数',\n",
    "    '1.19_y' : '1.19迁出指数',\n",
    "    '1.2_y' : '1.20迁出指数',\n",
    "    '1.21_y' : '1.21迁出指数',\n",
    "    '1.22_y' : '1.22迁出指数',\n",
    "    '1.23_y' : '1.23迁出指数',\n",
    "    \n",
    "    1.17 : '1.17比例',\n",
    "    1.18 : '1.18比例',\n",
    "    1.19 : '1.19比例',\n",
    "    1.2 : '1.20比例',\n",
    "    1.21 : '1.21比例',\n",
    "    1.22 : '1.22比例',\n",
    "    1.23 : '1.23比例',\n",
    "}\n",
    "\n",
    "test888.rename(columns=a,inplace=True)\n",
    "\n",
    "test888.fillna(0,inplace=True)"
   ]
  },
  {
   "cell_type": "markdown",
   "metadata": {},
   "source": [
    "# 3.导出excel"
   ]
  },
  {
   "cell_type": "markdown",
   "metadata": {},
   "source": [
    "3.1删除冗余数据，并将训练集和测试集分别到出excel文件"
   ]
  },
  {
   "cell_type": "code",
   "execution_count": 17,
   "metadata": {},
   "outputs": [],
   "source": [
    "ys = pd.read_excel('./AI 2020 04 data01.xlsx',sheet_name='疫情数据（累计）',index_col=[0,1])\n",
    "\n",
    "ys.fillna(0,inplace=True)\n",
    "\n",
    "ys['y_训练集'] = ys['2020-01-30']-ys['2020-01-24']\n",
    "\n",
    "ys['y_测试集'] = ys.iloc[:,-2]-ys.iloc[:,-3]"
   ]
  },
  {
   "cell_type": "code",
   "execution_count": 18,
   "metadata": {},
   "outputs": [],
   "source": [
    "finaly_train = pd.merge(train2,ys['y_训练集'],right_index=True,left_index=True).reset_index().drop(columns='单位：人（空白为该时间点数据没有记录）').set_index(['省份','地区'])"
   ]
  },
  {
   "cell_type": "code",
   "execution_count": 19,
   "metadata": {},
   "outputs": [],
   "source": [
    "finaly_test = pd.merge(test888,ys['y_测试集'],right_index=True,left_index=True).reset_index().drop(columns='单位：人（空白为该时间点数据没有记录）').set_index(['省份','地区'])"
   ]
  },
  {
   "cell_type": "code",
   "execution_count": 20,
   "metadata": {},
   "outputs": [],
   "source": [
    "finaly_train.to_excel(r'./训练集.xlsx')\n",
    "finaly_test.to_excel(r'./测试集.xlsx')"
   ]
  }
 ],
 "metadata": {
  "kernelspec": {
   "display_name": "Python 3",
   "language": "python",
   "name": "python3"
  },
  "language_info": {
   "codemirror_mode": {
    "name": "ipython",
    "version": 3
   },
   "file_extension": ".py",
   "mimetype": "text/x-python",
   "name": "python",
   "nbconvert_exporter": "python",
   "pygments_lexer": "ipython3",
   "version": "3.7.4"
  }
 },
 "nbformat": 4,
 "nbformat_minor": 2
}
